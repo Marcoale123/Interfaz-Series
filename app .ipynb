{
 "cells": [
  {
   "cell_type": "code",
   "execution_count": 1,
   "metadata": {},
   "outputs": [
    {
     "name": "stdout",
     "output_type": "stream",
     "text": [
      "CSV generado con éxito.\n"
     ]
    }
   ],
   "source": [
    "\n",
    "\n",
    "import pandas as pd\n",
    "import numpy as np\n",
    "from faker import Faker\n",
    "import random\n",
    "\n",
    "# Inicializar Faker para generación de datos sintéticos\n",
    "fake = Faker()\n",
    "\n",
    "# Número de entradas\n",
    "num_entries = 1500\n",
    "\n",
    "# Generar datos sintéticos\n",
    "data = {\n",
    "    \"movie_id\": range(1, num_entries + 1),\n",
    "    \"Título\": [fake.sentence(nb_words=4) for _ in range(num_entries)],\n",
    "    \"Puntuación\": np.random.uniform(1, 10, num_entries).round(1),\n",
    "    \"Géneros\": [', '.join(fake.words(nb=random.randint(1, 3), ext_word_list=['Drama', 'Comedia', 'Ciencia Ficción', 'Acción', 'Terror', 'Documental', 'Romance', 'Animación', 'Aventura', 'Fantasía'])) for _ in range(num_entries)],\n",
    "    \"Sinopsis\": [fake.text(max_nb_chars=200) for _ in range(num_entries)],\n",
    "    \"Tipo de transmisión\": [random.choice(['Streaming', 'Cine', 'Televisión']) for _ in range(num_entries)],\n",
    "    \"Fecha de estreno\": [fake.date_this_century() for _ in range(num_entries)],\n",
    "    \"Estado\": [random.choice(['En emisión', 'Finalizada']) for _ in range(num_entries)],\n",
    "    \"Productores\": [fake.company() for _ in range(num_entries)],\n",
    "    \"Licenciantes\": [fake.company() for _ in range(num_entries)],\n",
    "    \"Estudios\": [fake.company() for _ in range(num_entries)],\n",
    "    \"Fuente\": [random.choice(['Original', 'Adaptación', 'Basada en un libro', 'Basada en hechos reales']) for _ in range(num_entries)],\n",
    "    \"Duración\": [random.randint(60, 180) for _ in range(num_entries)],\n",
    "    \"Clasificación\": [random.choice(['G', 'PG', 'PG-13', 'R', 'NC-17']) for _ in range(num_entries)],\n",
    "    \"Rango\": np.random.uniform(1, 10, num_entries).round(1),\n",
    "    \"Popularidad\": np.random.uniform(1, 100, num_entries).round(1),\n",
    "    \"Favoritos\": [random.randint(1, 10000) for _ in range(num_entries)],\n",
    "    \"Puntuado por\": [random.randint(1, 10000) for _ in range(num_entries)],\n",
    "    \"Miembros\": [random.randint(1, 10000) for _ in range(num_entries)],\n",
    "    \"URL de la película\": [fake.url() for _ in range(num_entries)],\n",
    "}\n",
    "\n",
    "# Crear un DataFrame con los datos\n",
    "df = pd.DataFrame(data)\n",
    "\n",
    "# Guardar el DataFrame en un archivo CSV\n",
    "df.to_csv('series_de_peliculas.csv', index=False)\n",
    "\n",
    "print(\"CSV generado con éxito.\")"
   ]
  },
  {
   "cell_type": "code",
   "execution_count": 6,
   "metadata": {},
   "outputs": [
    {
     "name": "stdout",
     "output_type": "stream",
     "text": [
      "CSV generado con éxito.\n"
     ]
    }
   ],
   "source": [
    "import pandas as pd\n",
    "import numpy as np\n",
    "import random\n",
    "from datetime import datetime, timedelta\n",
    "\n",
    "# Número de entradas\n",
    "num_entries = 1500\n",
    "\n",
    "# Generar un conjunto único de URLs de imágenes para las series/películas\n",
    "image_urls = [f\"https://source.unsplash.com/random/800x600?sig={i}\" for i in range(num_entries)]\n",
    "\n",
    "# Función para generar títulos de películas aleatorios\n",
    "def generate_title():\n",
    "    words = [\"The\", \"Adventure\", \"of\", \"Mystery\", \"in\", \"Space\", \"and\", \"Time\", \"Love\", \"Story\", \"Action\", \"Beyond\"]\n",
    "    return ' '.join(random.choices(words, k=4))\n",
    "\n",
    "# Función para generar géneros aleatorios\n",
    "def generate_genres():\n",
    "    genres = ['Drama', 'Comedia', 'Ciencia Ficción', 'Acción', 'Terror', 'Documental', 'Romance', 'Animación', 'Aventura', 'Fantasía']\n",
    "    return ', '.join(random.sample(genres, k=random.randint(1, 3)))\n",
    "\n",
    "# Función para generar una sinopsis aleatoria\n",
    "def generate_synopsis():\n",
    "    words = [\"This\", \"movie\", \"is\", \"about\", \"a\", \"hero\", \"who\", \"fights\", \"against\", \"evil\", \"to\", \"save\", \"the\", \"world\", \"and\", \"find\", \"love\", \"in\", \"the\", \"process\"]\n",
    "    return ' '.join(random.choices(words, k=30))\n",
    "\n",
    "# Función para generar fechas de estreno aleatorias\n",
    "def generate_release_date():\n",
    "    start_date = datetime(2000, 1, 1)\n",
    "    end_date = datetime(2023, 12, 31)\n",
    "    return start_date + timedelta(days=random.randint(0, (end_date - start_date).days))\n",
    "\n",
    "# Generar datos sintéticos\n",
    "data = {\n",
    "    \"movie_id\": range(1, num_entries + 1),\n",
    "    \"Título\": [generate_title() for _ in range(num_entries)],\n",
    "    \"Puntuación\": np.random.uniform(1, 10, num_entries).round(1),\n",
    "    \"Géneros\": [generate_genres() for _ in range(num_entries)],\n",
    "    \"Sinopsis\": [generate_synopsis() for _ in range(num_entries)],\n",
    "    \"Tipo de transmisión\": [random.choice(['Streaming', 'Cine', 'Televisión']) for _ in range(num_entries)],\n",
    "    \"Fecha de estreno\": [generate_release_date().date() for _ in range(num_entries)],\n",
    "    \"Estado\": [random.choice(['En emisión', 'Finalizada']) for _ in range(num_entries)],\n",
    "    \"Productores\": [f\"Productor {i}\" for i in range(num_entries)],\n",
    "    \"Licenciantes\": [f\"Licenciante {i}\" for i in range(num_entries)],\n",
    "    \"Estudios\": [f\"Estudio {i}\" for i in range(num_entries)],\n",
    "    \"Fuente\": [random.choice(['Original', 'Adaptación', 'Basada en un libro', 'Basada en hechos reales']) for _ in range(num_entries)],\n",
    "    \"Duración\": [random.randint(60, 180) for _ in range(num_entries)],\n",
    "    \"Clasificación\": [random.choice(['G', 'PG', 'PG-13', 'R', 'NC-17']) for _ in range(num_entries)],\n",
    "    \"Rango\": np.random.uniform(1, 10, num_entries).round(1),\n",
    "    \"Popularidad\": np.random.uniform(1, 100, num_entries).round(1),\n",
    "    \"Favoritos\": [random.randint(1, 10000) for _ in range(num_entries)],\n",
    "    \"Puntuado por\": [random.randint(1, 10000) for _ in range(num_entries)],\n",
    "    \"Miembros\": [random.randint(1, 10000) for _ in range(num_entries)],\n",
    "    \"URL de la película\": [f\"https://example.com/movie_{i}\" for i in range(num_entries)],\n",
    "    \"URL de la imagen\": image_urls,\n",
    "}\n",
    "\n",
    "# Crear un DataFrame con los datos\n",
    "df = pd.DataFrame(data)\n",
    "\n",
    "# Guardar el DataFrame en un archivo CSV\n",
    "df.to_csv('series_de_peliculas.csv', index=False)\n",
    "\n",
    "print(\"CSV generado con éxito.\")"
   ]
  }
 ],
 "metadata": {
  "kernelspec": {
   "display_name": "Python 3",
   "language": "python",
   "name": "python3"
  },
  "language_info": {
   "codemirror_mode": {
    "name": "ipython",
    "version": 3
   },
   "file_extension": ".py",
   "mimetype": "text/x-python",
   "name": "python",
   "nbconvert_exporter": "python",
   "pygments_lexer": "ipython3",
   "version": "3.10.12"
  }
 },
 "nbformat": 4,
 "nbformat_minor": 2
}
